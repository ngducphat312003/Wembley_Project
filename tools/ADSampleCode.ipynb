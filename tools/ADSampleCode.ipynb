{
 "cells": [
  {
   "cell_type": "code",
   "execution_count": null,
   "metadata": {
    "vscode": {
     "languageId": "plaintext"
    }
   },
   "outputs": [],
   "source": [
    "class resnet_feature_extractor(torch.nn.Module):\n",
    "    def __init__(self):\n",
    "        \"\"\"This class extracts the feature maps from a pretrained Resnet model.\"\"\"\n",
    "        super(resnet_feature_extractor, self).__init__()\n",
    "        self.model = resnet50(weights=ResNet50_Weights.DEFAULT)\n",
    "\n",
    "\n",
    "        self.model.eval()\n",
    "        for param in self.model.parameters():\n",
    "            param.requires_grad = False\n",
    "\n",
    "        # Hook to extract feature maps\n",
    "        def hook(module, input, output) -> None:\n",
    "            \"\"\"This hook saves the extracted feature map on self.featured.\"\"\"\n",
    "            self.features.append(output)\n",
    "\n",
    "        self.model.layer2[-1].register_forward_hook(hook)\n",
    "        self.model.layer3[-1].register_forward_hook(hook)\n",
    "\n",
    "    def forward(self, input):\n",
    "\n",
    "        self.features = []\n",
    "        with torch.no_grad():\n",
    "            _ = self.model(input)\n",
    "\n",
    "        self.avg = torch.nn.AvgPool2d(3, stride=1)\n",
    "        fmap_size = self.features[0].shape[-2]         # Feature map sizes h, w\n",
    "        self.resize = torch.nn.AdaptiveAvgPool2d(fmap_size)\n",
    "\n",
    "        resized_maps = [self.resize(self.avg(fmap)) for fmap in self.features]\n",
    "        patch = torch.cat(resized_maps, 1)            # Merge the resized feature maps\n",
    "        patch = patch.reshape(patch.shape[1], -1).T   # Craete a column tensor\n",
    "\n",
    "        return patch\n"
   ]
  },
  {
   "cell_type": "code",
   "execution_count": null,
   "metadata": {
    "vscode": {
     "languageId": "plaintext"
    }
   },
   "outputs": [],
   "source": [
    "\n",
    "image = Image.open(r'/content/drive/MyDrive/DatasetBlack1/testblack/tr1/trplastic_IMG_0002_40.jpg')\n",
    "image = transform(image).unsqueeze(0).cuda()\n",
    "backbone = resnet_feature_extractor().cuda()\n",
    "feature = backbone(image)\n",
    "print(backbone.features[0].shape)\n",
    "print(backbone.features[1].shape)\n",
    "#print(backbone.features[2].shape)\n",
    "print(feature.shape)\n",
    "\n",
    "plt.imshow(image[0].permute(1, 2, 0).cpu())"
   ]
  },
  {
   "cell_type": "code",
   "execution_count": null,
   "metadata": {
    "vscode": {
     "languageId": "plaintext"
    }
   },
   "outputs": [],
   "source": [
    "memory_banktr =[]\n",
    "\n",
    "folder_path = Path(r'/content/drive/MyDrive/DatasetBlack1/tr1/train/good')\n",
    "\n",
    "for pth in tqdm(folder_path.iterdir(),leave=False):\n",
    "\n",
    "    with torch.no_grad():\n",
    "        data = transform(Image.open(pth)).cuda().unsqueeze(0)\n",
    "        features = backbone(data)\n",
    "\n",
    "        memory_banktr.append(features.cpu().detach())\n",
    "\n",
    "memory_banktr = torch.cat(memory_banktr,dim=0).cuda()"
   ]
  },
  {
   "cell_type": "code",
   "execution_count": null,
   "metadata": {
    "vscode": {
     "languageId": "plaintext"
    }
   },
   "outputs": [],
   "source": [
    "print(f\"Shape of memory_bank1: {memory_banktr.shape}\")\n",
    "print(f\"Data type of memory_bank1: {memory_banktr.dtype}\")"
   ]
  },
  {
   "cell_type": "code",
   "execution_count": null,
   "metadata": {
    "vscode": {
     "languageId": "plaintext"
    }
   },
   "outputs": [],
   "source": [
    "memory_bank11 = memory_banktr.clone()\n",
    "selected_indices = np.random.choice(len(memory_bank11), size=len(memory_bank11)//1, replace=False)\n",
    "memory_bank11 = memory_bank11[selected_indices]"
   ]
  },
  {
   "cell_type": "code",
   "execution_count": null,
   "metadata": {
    "vscode": {
     "languageId": "plaintext"
    }
   },
   "outputs": [],
   "source": [
    "memory_bank11 = torch.load(\"/content/drive/MyDrive/memory_bankblv1.pt\").cuda()"
   ]
  },
  {
   "cell_type": "code",
   "execution_count": null,
   "metadata": {
    "vscode": {
     "languageId": "plaintext"
    }
   },
   "outputs": [],
   "source": [
    "y_score1=[]\n",
    "folder_path = Path(r'/content/drive/MyDrive/DatasetBlack1/tr1/train/good')\n",
    "\n",
    "for pth in tqdm(folder_path.iterdir(),leave=False):\n",
    "    data1 = transform(Image.open(pth)).cuda().unsqueeze(0)\n",
    "    with torch.no_grad():\n",
    "        features1 = backbone(data1)\n",
    "    distances1 = torch.cdist(features1, memory_bank11, p=2.0)\n",
    "    dist_score1, dist_score_idxs1 = torch.min(distances1, dim=1)\n",
    "    s_star1 = torch.max(dist_score1)\n",
    "    segm_map1 = dist_score1.view(1, 1, 28, 28)\n",
    "\n",
    "    y_score1.append(s_star1.cpu().numpy())"
   ]
  },
  {
   "cell_type": "code",
   "execution_count": null,
   "metadata": {
    "vscode": {
     "languageId": "plaintext"
    }
   },
   "outputs": [],
   "source": [
    "best_threshold1 = np.mean(y_score1) + 2 * np.std(y_score1)\n",
    "print(best_threshold1)\n",
    "plt.hist(y_score1,bins=50)\n",
    "plt.vlines(x=best_threshold1,ymin=0,ymax=30,color='r')\n",
    "plt.show()"
   ]
  },
  {
   "cell_type": "code",
   "execution_count": null,
   "metadata": {
    "vscode": {
     "languageId": "plaintext"
    }
   },
   "outputs": [],
   "source": [
    "y_score1 = []\n",
    "y_true1=[]\n",
    "\n",
    "for classes in ['good','bad']:\n",
    "    folder_path = Path(r'/content/drive/MyDrive/DatasetBlack1/tr1/test/{}'.format(classes))\n",
    "\n",
    "    for pth in tqdm(folder_path.iterdir(),leave=False):\n",
    "\n",
    "        class_label = pth.parts[-2]\n",
    "        with torch.no_grad():\n",
    "            test_image1 = transform(Image.open(pth)).cuda().unsqueeze(0)\n",
    "            features1 = backbone(test_image1)\n",
    "\n",
    "        distances1 = torch.cdist(features1, memory_bank11, p=2.0)\n",
    "        dist_score1, dist_score_idxs = torch.min(distances1, dim=1)\n",
    "        s_star1 = torch.max(dist_score1)\n",
    "        segm_map1 = dist_score1.view(1, 1, 28, 28)\n",
    "\n",
    "        y_score1.append(s_star1.cpu().numpy())\n",
    "        y_true1.append(0 if class_label == 'good' else 1)"
   ]
  },
  {
   "cell_type": "code",
   "execution_count": null,
   "metadata": {
    "vscode": {
     "languageId": "plaintext"
    }
   },
   "outputs": [],
   "source": [
    "# plotting the y_score values which do not belong to 'good' class\n",
    "y_score_nok1 = [score  for score,true in zip(y_score1,y_true1) if true==1]\n",
    "plt.hist(y_score_nok1,bins=50)\n",
    "plt.vlines(x=best_threshold1,ymin=0,ymax=30,color='r')\n",
    "plt.show()"
   ]
  },
  {
   "cell_type": "code",
   "execution_count": null,
   "metadata": {
    "vscode": {
     "languageId": "plaintext"
    }
   },
   "outputs": [],
   "source": [
    "from sklearn.metrics import roc_auc_score, roc_curve, confusion_matrix, ConfusionMatrixDisplay, f1_score\n",
    "# Calculate AUC-ROC score\n",
    "auc_roc_score1 = roc_auc_score(y_true1, y_score1)\n",
    "print(\"AUC-ROC Score:\", auc_roc_score1)\n",
    "# Plot ROC curve\n",
    "fpr, tpr, thresholds = roc_curve(y_true1, y_score1)\n",
    "plt.figure()\n",
    "plt.plot(fpr, tpr, color='darkorange', lw=2, label='ROC curve (area = %0.2f)' % auc_roc_score1)\n",
    "plt.plot([0, 1], [0, 1], color='navy', lw=2, linestyle='--')\n",
    "plt.xlabel('False Positive Rate')\n",
    "plt.ylabel('True Positive Rate')\n",
    "plt.title('Receiver Operating Characteristic (ROC) Curve')\n",
    "plt.legend(loc=\"lower right\")\n",
    "plt.show()\n",
    "f1_scores = [f1_score(y_true1, y_score1 >= threshold) for threshold in thresholds]\n",
    "# Select the best threshold based on F1 score\n",
    "best_threshold = thresholds[np.argmax(f1_scores)]\n",
    "\n",
    "print(f'best_threshold = {best_threshold}')\n",
    "\n",
    "# Generate confusion matrix\n",
    "cm = confusion_matrix(y_true1, (y_score1 >= best_threshold).astype(int))\n",
    "disp = ConfusionMatrixDisplay(confusion_matrix=cm,display_labels=['OK','NOK'])\n",
    "disp.plot()\n",
    "plt.show()"
   ]
  },
  {
   "cell_type": "code",
   "execution_count": null,
   "metadata": {
    "vscode": {
     "languageId": "plaintext"
    }
   },
   "outputs": [],
   "source": [
    "# begin = time.time()\n",
    "# Đảm bảo backbone ở chế độ đánh giá\n",
    "backbone.eval()\n",
    "\n",
    "# Đường dẫn đến thư mục cần kiểm tra\n",
    "test_path = Path('/content/drive/MyDrive/DatasetBlack1/testblack/tr1')\n",
    "best_threshold2 = 12.82919960\n",
    "# Lặp qua tất cả các tệp .bmp trong thư mục\n",
    "for path in test_path.glob('*.jpg'):  # Tìm các tệp .bmp trong thư mục 'bad'\n",
    "    test_image = transform(Image.open(path)).cuda().unsqueeze(0)\n",
    "\n",
    "    # Dự đoán với mô hình\n",
    "    with torch.no_grad():\n",
    "        features = backbone(test_image)\n",
    "\n",
    "    # Tính toán khoảng cách\n",
    "    distances = torch.cdist(features, memory_bank11, p=2.0)\n",
    "    dist_score, dist_score_idxs = torch.min(distances, dim=1)\n",
    "    s_star = torch.max(dist_score)\n",
    "\n",
    "    # Tạo segmentation map\n",
    "    segm_map = dist_score.view(1, 1, 28, 28)\n",
    "    segm_map = torch.nn.functional.interpolate(\n",
    "        segm_map,\n",
    "        size=(224, 224),\n",
    "        mode='bilinear'\n",
    "    ).cpu().squeeze().numpy()\n",
    "    # Tính điểm bất thường\n",
    "    y_score_image = s_star.cpu().numpy()\n",
    "    \n",
    "    y_pred_image = 1 * (y_score_image >= best_threshold)\n",
    "    class_label = ['GOOD', 'BAD']\n",
    "    y_score_image = s_star.cpu().numpy()\n",
    "    #best_threshold3 = best_threshold1-10\n",
    "\n",
    "    # In kết quả\n",
    "    print(f'File name: {path.name}')\n",
    "    print(f'Anomaly score: {y_score_image:0.8f}')\n",
    "    print(f'Prediction: {class_label[y_pred_image]}')\n",
    "\n",
    "    # Hiển thị kết quả\n",
    "    plt.figure(figsize=(15, 5))\n",
    "\n",
    "    plt.subplot(1, 3, 1)\n",
    "    plt.imshow(test_image.squeeze().permute(1, 2, 0).cpu().numpy())\n",
    "    plt.title(f'File: {path.name}')\n",
    "\n",
    "    plt.subplot(1, 3, 2)\n",
    "    heat_map = segm_map\n",
    "    plt.imshow(heat_map, cmap='viridis', vmin=best_threshold, vmax=best_threshold * 1.5)\n",
    "    plt.title(f'Defective score: {y_score_image / best_threshold:0.4f} || {class_label[y_pred_image]}')\n",
    "\n",
    "    plt.show()\n",
    "\n",
    "    # time.sleep(0.1)\n",
    "    #clear_output(wait=True)\n",
    "# end = time.time()\n",
    "# print(end-begin)"
   ]
  },
  {
   "cell_type": "code",
   "execution_count": null,
   "metadata": {
    "vscode": {
     "languageId": "plaintext"
    }
   },
   "outputs": [],
   "source": [
    "torch.save(memory_bank11, \"/content/drive/MyDrive/memory_banktlv1.pt\")"
   ]
  }
 ],
 "metadata": {
  "language_info": {
   "name": "python"
  }
 },
 "nbformat": 4,
 "nbformat_minor": 2
}
